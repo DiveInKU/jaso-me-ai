{
  "nbformat": 4,
  "nbformat_minor": 0,
  "metadata": {
    "colab": {
      "name": "keyword.ipynb",
      "provenance": [],
      "collapsed_sections": []
    },
    "kernelspec": {
      "name": "python3",
      "display_name": "Python 3"
    },
    "language_info": {
      "name": "python"
    }
  },
  "cells": [
    {
      "cell_type": "code",
      "source": [
        "#drive 연동\n",
        "from google.colab import drive\n",
        "drive.mount('/content/gdrive/')"
      ],
      "metadata": {
        "id": "3uWAT2sFUDW4"
      },
      "execution_count": null,
      "outputs": []
    },
    {
      "cell_type": "code",
      "source": [
        "import csv\n",
        "from csv import reader\n",
        "import pandas as pd\n",
        "\n",
        "#csv파일 read\n",
        "#f = open('../gdrive/MyDrive/Colab Notebooks/selfs_meta.csv')\n",
        "f = open('./selfs_meta.csv')\n",
        "ff = pd.read_csv(f)"
      ],
      "metadata": {
        "id": "0Ofy6lWeXSvD"
      },
      "execution_count": null,
      "outputs": []
    },
    {
      "cell_type": "code",
      "source": [
        "!git clone https://github.com/kakao/khaiii.git\n",
        "!pip install cmake"
      ],
      "metadata": {
        "id": "yhZs6b16VSQz"
      },
      "execution_count": null,
      "outputs": []
    },
    {
      "cell_type": "code",
      "source": [
        "cd /content"
      ],
      "metadata": {
        "id": "rmz87muFVgJ4"
      },
      "execution_count": null,
      "outputs": []
    },
    {
      "cell_type": "code",
      "source": [
        "!mkdir build\n",
        "!cd build && cmake /content/khaiii\n",
        "!cd /content/build/ && make all\n",
        "!cd /content/build/ && make resource\n",
        "!cd /content/build && make install\n",
        "!cd /content/build && make package_python\n",
        "!pip install /content/build/package_python"
      ],
      "metadata": {
        "id": "wHC8uMYOVjRv"
      },
      "execution_count": null,
      "outputs": []
    },
    {
      "cell_type": "code",
      "execution_count": null,
      "metadata": {
        "id": "GkSnFLGsTDJM"
      },
      "outputs": [],
      "source": [
        "#해당 직무 관련 추출\n",
        "job=input(\"직무를 입력하세요 : \")\n",
        "con=ff[ff['field'].str.contains(job)==False].index\n",
        "ff.drop(con,inplace=True)\n",
        "ff.reset_index(drop=True,inplace=True)\n",
        "\n",
        "#자소서 내용 부분\n",
        "content=ff.loc[0:,\"content\"]\n",
        "\n",
        "kk_k=[]\n",
        "word_text=[]\n",
        "for j in range(len(content)):\n",
        "  kk=content[j].split('wn')\n",
        "  kk=kk[0:]\n",
        "  for i in range(len(kk)):\n",
        "    word_text=kk[i].split('.')\n",
        "    kk_k.append([[i]for i in word_text if len(i)>=1])\n",
        "    \n",
        "#한문장 단위\n",
        "from itertools import chain\n",
        "text_corpus=[[i] for i in list(chain(*list((chain(*kk_k)))))]\n",
        "\n",
        "arr=[]\n",
        "\n",
        "#질문 구분 없애기\n",
        "for i in range(len(text_corpus)):\n",
        "  for col in text_corpus[i]:\n",
        "    if '//' in col:\n",
        "      arr=''.join(text_corpus[i]).split('//')\n",
        "      text_corpus[i]=arr[1]\n",
        "    else:\n",
        "      text_corpus[i]=text_corpus[i]\n",
        "#text_corpus[0:]\n"
      ]
    },
    {
      "cell_type": "code",
      "source": [
        "from khaiii import KhaiiiApi\n",
        "api = KhaiiiApi()\n",
        "\n",
        "#형태소 분석\n",
        "text_sentence=[]\n",
        "\n",
        "#키워드 -> 명사들만 보이게 처리\n",
        "for i in range(len(text_corpus)):\n",
        "  morphs = []\n",
        "  for word in api.analyze(text_corpus[i][0]):\n",
        "    for morph in word.morphs:    \n",
        "      if morph.tag==\"NNG\" or morph.tag==\"NNP\" or morph.tag==\"NNB\":\n",
        "        morphs.append((morph.lex)) #morph.tag\n",
        "  text_sentence.append(morphs)\n",
        "\n",
        "text_sentence_1=[]\n",
        "#명사, 동사, 형용사\n",
        "for i in range(len(text_corpus)):\n",
        "  morphs_1 = []\n",
        "  for word in api.analyze(text_corpus[i][0]):\n",
        "    for morph in word.morphs:\n",
        "      if morph.tag==\"NNG\" or morph.tag==\"NNP\" or morph.tag==\"NNB\" or morph.tag==\"VV\" or morph.tag==\"VA\":\n",
        "        morphs_1.append((morph.lex)) #morph.tag\n",
        "  text_sentence_1.append(morphs_1)\n",
        "\n",
        "from gensim.models import Word2Vec\n",
        "#skip gram model\n",
        "#embedding_skipgram_model = Word2Vec(text_sentence, size=100, window = 3, min_count=3, workers=4, iter=100, sg=1) #명사버전\n",
        "embedding_skipgram_model_1 = Word2Vec(text_sentence_1, size=100, window = 3, min_count=3, workers=4, iter=100, sg=1) #명사+형용사+동사버전\n",
        "\n",
        "#CBOW model\n",
        "#embedding_cbow_model = Word2Vec(text_sentence, size=100, window = 3, min_count=3, workers=4, iter=100, sg=0)  #명사버전\n",
        "#embedding_cbow_model_1 = Word2Vec(text_sentence_1, size=100, window = 3, min_count=3, workers=4, iter=100, sg=0) #명사+형용사+동사버전\n",
        "\n",
        "#print(embedding_skipgram_model_1.most_similar(positive=[\"웹\"], topn=20))\n",
        "\n",
        "#시각화\n",
        "inputKeyword=input(\"keyword를 입력하세요 : \")\n",
        "keyword =embedding_skipgram_model_1.most_similar(positive=[inputKeyword], topn=30)\n",
        "keyword_list = []\n",
        "for i in range(len(keyword)):\n",
        "  keyword_list.append(keyword[i]) #튜플을 리스트로\n",
        "keyword_dict=dict(keyword_list)"
      ],
      "metadata": {
        "id": "23UZKVTUVabG"
      },
      "execution_count": null,
      "outputs": []
    },
    {
      "cell_type": "code",
      "source": [
        "pip install wordcloud"
      ],
      "metadata": {
        "id": "IK37tNgdY9pI"
      },
      "execution_count": null,
      "outputs": []
    },
    {
      "cell_type": "code",
      "source": [
        "from wordcloud import WordCloud\n",
        "import matplotlib.pyplot as plt \n",
        "import nltk \n",
        "from nltk.corpus import stopwords\n",
        "\n",
        "%matplotlib inline \n",
        "import matplotlib \n",
        "from IPython.display import set_matplotlib_formats \n",
        "matplotlib.rc('font',family = 'Malgun Gothic') \n",
        "set_matplotlib_formats('retina') \n",
        "matplotlib.rc('axes',unicode_minus = False)"
      ],
      "metadata": {
        "id": "9y397496Y_4O"
      },
      "execution_count": 34,
      "outputs": []
    },
    {
      "cell_type": "code",
      "source": [
        "cd ./gdrive/MyDrive/Colab\\ Notebooks"
      ],
      "metadata": {
        "id": "AU02qv-4ZCtP"
      },
      "execution_count": null,
      "outputs": []
    },
    {
      "cell_type": "code",
      "source": [
        "wordcloud = WordCloud(font_path = './malgunbd.ttf', background_color='white', width=1500, height=1000).generate_from_frequencies(keyword_dict)\n",
        "plt.imshow(wordcloud)\n",
        "plt.axis('off') \n",
        "plt.show()"
      ],
      "metadata": {
        "id": "C8UWRgJ-ZDyY"
      },
      "execution_count": null,
      "outputs": []
    }
  ]
}